{
 "cells": [
  {
   "cell_type": "code",
   "execution_count": 1,
   "metadata": {
    "ExecuteTime": {
     "end_time": "2020-10-05T23:08:24.293478Z",
     "start_time": "2020-10-05T23:08:22.717421Z"
    }
   },
   "outputs": [],
   "source": [
    "#import the necessary libraries\n",
    "import numpy as np\n",
    "import pandas as pd\n",
    "import matplotlib.pyplot as plt\n",
    "from sklearn.model_selection import train_test_split\n",
    "from sklearn.metrics import classification_report, confusion_matrix\n",
    "from sklearn.metrics import plot_confusion_matrix\n",
    "import seaborn as sns\n",
    "import random as rand\n",
    "import cv2\n",
    "import glob\n",
    "r = rand.Random()"
   ]
  },
  {
   "cell_type": "markdown",
   "metadata": {},
   "source": [
    "# Part 2 MNIST HANDWRITTEN DIGITS CLASSIFICATION"
   ]
  },
  {
   "cell_type": "code",
   "execution_count": 2,
   "metadata": {
    "ExecuteTime": {
     "end_time": "2020-10-05T23:08:25.198395Z",
     "start_time": "2020-10-05T23:08:25.184412Z"
    }
   },
   "outputs": [],
   "source": [
    "#creating a Linear Regression class\n",
    "class LinearRegression:\n",
    "    \n",
    "    def __init__(self, file_name = \"\", alpha= 0.0005, tolerance = 0.001, max_iter = 10000):\n",
    "        self.file_name = file_name\n",
    "        self.alpha = alpha\n",
    "        self.tolerance = tolerance\n",
    "        self.max_iter = max_iter\n",
    "        \n",
    "        #prepare data\n",
    "        self.data = pd.read_csv(self.file_name) #read csv file\n",
    "        self.x = self.data.iloc[:,:-1] #separate all x features \n",
    "        ones = pd.DataFrame(np.ones(self.data.iloc[:, -1:].shape[0])) #make x_0 = 1 \n",
    "        self.x = pd.concat([ones,self.x], axis=1) #add x_0 to the x features\n",
    "        self.x = np.asmatrix(self.x)\n",
    "        self.y = np.asmatrix(self.data.iloc[:, -1:])\n",
    "        \n",
    "    \n",
    "        \n",
    "        #generate random theta\n",
    "        self.theta = np.asmatrix((2*np.random.rand(self.x.shape[1]))-1).T\n",
    "        \n",
    "        self.h = None\n",
    "        self.hy_diff = None\n",
    "        self.j = None\n",
    "        self.gradient = None\n",
    "        \n",
    "        #make an initial list where you append J\n",
    "        self.cost = []\n",
    "    \n",
    "    # Compute hypothesis function \n",
    "    def eval_h(self):\n",
    "        self.h = np.dot(self.x,self.theta)\n",
    "    \n",
    "    # Compute cost function \n",
    "    def eval_j(self):\n",
    "        self.hy_diff = self.h - self.y\n",
    "        self.j = (1/(2*self.y.shape[0]))* np.dot(self.hy_diff.T, self.hy_diff)[0,0]\n",
    "        \n",
    "    # Compute the gradient of J\n",
    "    def gradient_j(self):\n",
    "        self.gradient = (1/self.y.shape[0])* np.dot(self.x.T, self.hy_diff)\n",
    "     \n",
    "    # Update equation for gradient descent\n",
    "    def update_theta(self):\n",
    "        self.theta = self.theta - self.alpha * self.gradient\n",
    "    \n",
    "    #Initiate regression\n",
    "    def regression(self):\n",
    "        for i in range(int(self.max_iter)):\n",
    "            self.eval_h()\n",
    "            self.eval_j()\n",
    "            self.cost.append(self.j)\n",
    "            self.gradient_j()\n",
    "            self.update_theta()\n",
    "            if i>0 and abs(self.cost[i]-self.cost[i-1])<= self.tolerance:\n",
    "                print(\"Ending at iteration:\", i+1)\n",
    "                break\n",
    "                 \n",
    "                \n",
    "    #plot results\n",
    "    def graph(self,label=\"\"):\n",
    "        x = np.arange(0,len(self.cost),1)\n",
    "        y = np.array(self.cost)\n",
    "        plt.xlabel('Training iterations')\n",
    "        plt.ylabel('Cost function')\n",
    "        plt.grid()\n",
    "        plt.plot(x, y, label=label)\n",
    "        plt.show"
   ]
  },
  {
   "cell_type": "code",
   "execution_count": 3,
   "metadata": {
    "ExecuteTime": {
     "end_time": "2020-10-05T23:08:26.163403Z",
     "start_time": "2020-10-05T23:08:26.149465Z"
    }
   },
   "outputs": [],
   "source": [
    "#creating a Logistic Regression class using inheritance\n",
    "class LogisticRegression(LinearRegression):\n",
    "    \n",
    "    def __init__(self, file_name = \"\", alpha = 0.0005, tolerance = 0.000001, max_iter = 10000):\n",
    "        super().__init__(file_name, alpha, tolerance, max_iter)\n",
    "        \n",
    "    def regularize(self, Lambda, Type = 'L2'):\n",
    "        self.regularized = False\n",
    "        self.Lambda = Lambda\n",
    "        self.Type = Type\n",
    "        theta = self.theta[1:]\n",
    "        if Type == 'L2' or Type == 'l2':\n",
    "            self.reg = self.Lambda * (np.dot(theta.T,theta)[0,0])\n",
    "        elif Type == 'L1' or Type == 'l1':\n",
    "            self.reg = self.Lambda * (np.dot(ones, abs(theta))[0,0])\n",
    "        self.regularized = True\n",
    "        \n",
    "    def eval_h(self):\n",
    "        self.h = 1/(1+ np.exp(np.dot(self.x,self.theta)*-1))\n",
    "        \n",
    "    def eval_j(self):\n",
    "        logh = np.log(self.h)\n",
    "        log1h = np.log(1-self.h)\n",
    "        ans = (np.dot(self.y.T, logh)[0,0] + np.dot(1-self.y.T, log1h)[0,0])*-1\n",
    "        self.j = ans*(1/self.y.shape[0]) if not self.regularized else ((ans + (self.reg / 2))*(1/self.y.shape[0]))\n",
    "    \n",
    "    def gradient_j(self):\n",
    "        hydiff = self.h - self.y\n",
    "        zero = np.asmatrix([[0.]])\n",
    "        theta = np.vstack((zero, self.theta[1:]))\n",
    "        self.gradient0 = np.dot(self.x.T, hydiff)\n",
    "        self.gradient = (self.gradient0*(1/self.y.shape[0])) if not self.regularized else (self.gradient0 + (self.Lambda * theta))*(1/self.y.shape[0])\n",
    "        \n",
    "    def update_theta(self):\n",
    "        theta = self.theta[1:]*(1-(self.alpha*self.Lambda)/self.y.shape[0])-self.alpha*(self.gradient0[1:]/self.y.shape[0])\n",
    "        theta0 = self.theta[0]-self.alpha*(self.gradient0[0]/self.y.shape[0])\n",
    "        self.theta = np.vstack((theta0, theta))\n",
    "        \n",
    "    def classify(self, N = 0):\n",
    "        for i in range(self.y.shape[0]):\n",
    "            self.y[i,0] = 1 if self.y[i,0] == N else 0"
   ]
  },
  {
   "cell_type": "markdown",
   "metadata": {},
   "source": [
    "#### 1. Once you have your best ensemble, save the weights of the models in a .csv file."
   ]
  },
  {
   "cell_type": "markdown",
   "metadata": {},
   "source": [
    "##### Creating Training CSV"
   ]
  },
  {
   "cell_type": "markdown",
   "metadata": {},
   "source": [
    "glob() - the glob module is used to retrieve files/pathnames matching a specified pattern. <br>\n",
    "<br>\n",
    "\n",
    "cv2 - is a library of Python bindings designed to solve computer vision problems. <br>\n",
    "cv2. imread(path,flag) method loads an image from the specified file. <br>\n",
    "path = image path <br>\n",
    "flag = specific way to read the image (0 = grayscale)"
   ]
  },
  {
   "cell_type": "code",
   "execution_count": 4,
   "metadata": {
    "ExecuteTime": {
     "end_time": "2020-10-05T23:10:59.537086Z",
     "start_time": "2020-10-05T23:08:30.378402Z"
    }
   },
   "outputs": [],
   "source": [
    "#read images\n",
    "zero = []\n",
    "for names0 in glob.glob('mnist_png/training/0/*'):\n",
    "    zeroimg = cv2.imread(names0, 0)\n",
    "    zero.append(zeroimg)\n",
    "    \n",
    "one = []\n",
    "for names1 in glob.glob('mnist_png/training/1/*'):\n",
    "    oneimg = cv2.imread(names1, 0)\n",
    "    one.append(oneimg)\n",
    "    \n",
    "two = []\n",
    "for names2 in glob.glob('mnist_png/training/2/*'):\n",
    "    twoimg = cv2.imread(names2, 0)\n",
    "    two.append(twoimg)\n",
    "    \n",
    "seven = []\n",
    "for names7 in glob.glob('mnist_png/training/7/*'):\n",
    "    sevenimg = cv2.imread(names7, 0)\n",
    "    seven.append(sevenimg)\n",
    "    \n",
    "eight = []\n",
    "for names8 in glob.glob('mnist_png/training/8/*'):\n",
    "    eightimg = cv2.imread(names8, 0)\n",
    "    eight.append(eightimg)"
   ]
  },
  {
   "cell_type": "code",
   "execution_count": 5,
   "metadata": {
    "ExecuteTime": {
     "end_time": "2020-10-05T23:10:59.645052Z",
     "start_time": "2020-10-05T23:10:59.539040Z"
    }
   },
   "outputs": [],
   "source": [
    "#choose random images from our list\n",
    "randzero = []\n",
    "for img in range(2000):\n",
    "    i = r.randint(0, len(zero)-1)\n",
    "    z = zero.pop(i).flatten()/255.\n",
    "    randzero.append(z)\n",
    "    \n",
    "randone = []\n",
    "for img in range(2000):\n",
    "    i = r.randint(0, len(one)-1)\n",
    "    o = one.pop(i).flatten()/255.\n",
    "    randone.append(o)\n",
    "    \n",
    "randtwo = []\n",
    "for img in range(2000):\n",
    "    i = r.randint(0, len(two)-1)\n",
    "    t = two.pop(i).flatten()/255.\n",
    "    randtwo.append(t)\n",
    "    \n",
    "randseven = []\n",
    "for img in range(2000):\n",
    "    i = r.randint(0, len(seven)-1)\n",
    "    s = seven.pop(i).flatten()/255.\n",
    "    randseven.append(s)\n",
    "    \n",
    "randeight = []\n",
    "for img in range(2000):\n",
    "    i = r.randint(0, len(eight)-1)\n",
    "    e = eight.pop(i).flatten()/255.\n",
    "    randeight.append(e)"
   ]
  },
  {
   "cell_type": "code",
   "execution_count": 6,
   "metadata": {
    "ExecuteTime": {
     "end_time": "2020-10-05T23:11:06.336855Z",
     "start_time": "2020-10-05T23:10:59.646776Z"
    }
   },
   "outputs": [],
   "source": [
    "#add a column for class in our new lists\n",
    "zeroes = np.zeros([2000, 1])\n",
    "randzero = np.hstack([np.asmatrix(randzero), zeroes])\n",
    "\n",
    "ones = np.ones([2000, 1])\n",
    "randone = np.hstack([np.asmatrix(randone), ones])\n",
    "\n",
    "twos = 2*np.ones([2000, 1])\n",
    "randtwo = np.hstack([np.asmatrix(randtwo), twos])\n",
    "\n",
    "sevens = 7*np.ones([2000, 1])\n",
    "randseven = np.hstack([np.asmatrix(randseven), sevens])\n",
    "\n",
    "eights = 8*np.ones([2000, 1])\n",
    "randeight = np.hstack([np.asmatrix(randeight), eights])\n",
    "\n",
    "#join all classes and save to a csv\n",
    "classes = np.vstack([randzero, randone, randtwo, randseven, randeight])\n",
    "pd.DataFrame(classes).to_csv('train.csv', index = False)"
   ]
  },
  {
   "cell_type": "code",
   "execution_count": 33,
   "metadata": {
    "ExecuteTime": {
     "end_time": "2020-10-06T00:52:02.105057Z",
     "start_time": "2020-10-06T00:52:01.957475Z"
    }
   },
   "outputs": [
    {
     "name": "stdout",
     "output_type": "stream",
     "text": [
      "<class 'pandas.core.frame.DataFrame'>\n",
      "RangeIndex: 10000 entries, 0 to 9999\n",
      "Columns: 785 entries, 0 to 784\n",
      "dtypes: float64(785)\n",
      "memory usage: 59.9 MB\n"
     ]
    }
   ],
   "source": [
    "pd.DataFrame(classes).info()"
   ]
  },
  {
   "cell_type": "markdown",
   "metadata": {},
   "source": [
    "##### Creating Testing CSV"
   ]
  },
  {
   "cell_type": "code",
   "execution_count": 7,
   "metadata": {
    "ExecuteTime": {
     "end_time": "2020-10-05T23:19:55.624845Z",
     "start_time": "2020-10-05T23:19:29.497180Z"
    }
   },
   "outputs": [],
   "source": [
    "#read images\n",
    "tzero = []\n",
    "for names0 in glob.glob('mnist_png/testing/0/*'):\n",
    "    zeroimg=cv2.imread(names0, 0)\n",
    "    tzero.append(zeroimg)\n",
    "    \n",
    "tone = []\n",
    "for names1 in glob.glob('mnist_png/testing/1/*'):\n",
    "    oneimg=cv2.imread(names1, 0)\n",
    "    tone.append(oneimg)\n",
    "    \n",
    "ttwo = []\n",
    "for names2 in glob.glob('mnist_png/testing/2/*'):\n",
    "    twoimg=cv2.imread(names2, 0)\n",
    "    ttwo.append(twoimg)\n",
    "    \n",
    "tseven = []\n",
    "for names7 in glob.glob('mnist_png/testing/7/*'):\n",
    "    sevenimg=cv2.imread(names7, 0)\n",
    "    tseven.append(sevenimg)\n",
    "    \n",
    "teight = []\n",
    "for names8 in glob.glob('mnist_png/testing/8/*'):\n",
    "    eightimg=cv2.imread(names8, 0)\n",
    "    teight.append(eightimg)"
   ]
  },
  {
   "cell_type": "code",
   "execution_count": 8,
   "metadata": {
    "ExecuteTime": {
     "end_time": "2020-10-05T23:19:55.653500Z",
     "start_time": "2020-10-05T23:19:55.627570Z"
    }
   },
   "outputs": [],
   "source": [
    "#choose random images from our list\n",
    "randtzero = []\n",
    "for img in range(200):\n",
    "    i = r.randint(0, len(tzero)-1)\n",
    "    z = zero.pop(i).flatten()/255.\n",
    "    randtzero.append(z)\n",
    "    \n",
    "randtone = []\n",
    "for img in range(200):\n",
    "    i = r.randint(0, len(tone)-1)\n",
    "    o = one.pop(i).flatten()/255.\n",
    "    randtone.append(o)\n",
    "    \n",
    "randttwo = []\n",
    "for img in range(200):\n",
    "    i = r.randint(0, len(ttwo)-1)\n",
    "    t = two.pop(i).flatten()/255.\n",
    "    randttwo.append(t)\n",
    "    \n",
    "randtseven = []\n",
    "for img in range(200):\n",
    "    i = r.randint(0, len(tseven)-1)\n",
    "    s = seven.pop(i).flatten()/255.\n",
    "    randtseven.append(s)\n",
    "    \n",
    "randteight = []\n",
    "for img in range(200):\n",
    "    i = r.randint(0, len(teight)-1)\n",
    "    e = eight.pop(i).flatten()/255.\n",
    "    randteight.append(e)"
   ]
  },
  {
   "cell_type": "code",
   "execution_count": 9,
   "metadata": {
    "ExecuteTime": {
     "end_time": "2020-10-05T23:19:56.370580Z",
     "start_time": "2020-10-05T23:19:55.656490Z"
    }
   },
   "outputs": [],
   "source": [
    "#add a column for class in our new lists\n",
    "zeroes = np.zeros([200, 1])\n",
    "randtzero = np.hstack([np.asmatrix(randtzero), zeroes])\n",
    "\n",
    "ones = np.ones([200, 1])\n",
    "randtone = np.hstack([np.asmatrix(randtone), ones])\n",
    "\n",
    "twos = 2*np.ones([200, 1])\n",
    "randttwo = np.hstack([np.asmatrix(randttwo), twos])\n",
    "\n",
    "sevens = 7*np.ones([200, 1])\n",
    "randtseven = np.hstack([np.asmatrix(randtseven), sevens])\n",
    "\n",
    "eights = 8*np.ones([200, 1])\n",
    "randteight = np.hstack([np.asmatrix(randteight), eights])\n",
    "\n",
    "#join all classes and save to a csv\n",
    "tclasses = np.vstack([randtzero, randtone, randttwo, randtseven, randteight])\n",
    "pd.DataFrame(tclasses).to_csv('test.csv', index = False)"
   ]
  },
  {
   "cell_type": "code",
   "execution_count": 34,
   "metadata": {
    "ExecuteTime": {
     "end_time": "2020-10-06T00:52:30.141015Z",
     "start_time": "2020-10-06T00:52:30.110098Z"
    }
   },
   "outputs": [
    {
     "name": "stdout",
     "output_type": "stream",
     "text": [
      "<class 'pandas.core.frame.DataFrame'>\n",
      "RangeIndex: 1000 entries, 0 to 999\n",
      "Columns: 785 entries, 0 to 784\n",
      "dtypes: float64(785)\n",
      "memory usage: 6.0 MB\n"
     ]
    }
   ],
   "source": [
    "pd.DataFrame(tclasses).info()"
   ]
  },
  {
   "cell_type": "markdown",
   "metadata": {},
   "source": [
    "#### 2. For each model, plot the cost as a function of training iteration and compute the overall accuracy, precision, recall, and F1 score for the two classes."
   ]
  },
  {
   "cell_type": "markdown",
   "metadata": {},
   "source": [
    "##### Zero"
   ]
  },
  {
   "cell_type": "code",
   "execution_count": 10,
   "metadata": {
    "ExecuteTime": {
     "end_time": "2020-10-05T23:19:57.611268Z",
     "start_time": "2020-10-05T23:19:56.371577Z"
    },
    "scrolled": true
   },
   "outputs": [],
   "source": [
    "#classifying the created csv\n",
    "train0 = LogisticRegression('train.csv', alpha = 0.01)\n",
    "train0.regularize(Lambda = 1)\n",
    "test0 = LogisticRegression('test.csv', alpha = 0.01)\n",
    "test0.regularize(Lambda = 1)\n",
    "\n",
    "train0.classify(N = 0)\n",
    "test0.classify(N = 0)"
   ]
  },
  {
   "cell_type": "code",
   "execution_count": 11,
   "metadata": {
    "ExecuteTime": {
     "end_time": "2020-10-05T23:21:28.199948Z",
     "start_time": "2020-10-05T23:19:57.612259Z"
    },
    "scrolled": true
   },
   "outputs": [
    {
     "data": {
      "image/png": "[encoded data removed]",
      "text/plain": [
       "<Figure size 432x288 with 1 Axes>"
      ]
     },
     "metadata": {
      "needs_background": "light"
     },
     "output_type": "display_data"
    }
   ],
   "source": [
    "train0.regression()\n",
    "train0.graph()"
   ]
  },
  {
   "cell_type": "code",
   "execution_count": 12,
   "metadata": {
    "ExecuteTime": {
     "end_time": "2020-10-05T23:21:28.220892Z",
     "start_time": "2020-10-05T23:21:28.201942Z"
    },
    "scrolled": false
   },
   "outputs": [
    {
     "name": "stdout",
     "output_type": "stream",
     "text": [
      "              precision    recall  f1-score   support\n",
      "\n",
      "         0.0       0.99      0.99      0.99       800\n",
      "         1.0       0.95      0.94      0.94       200\n",
      "\n",
      "    accuracy                           0.98      1000\n",
      "   macro avg       0.97      0.96      0.97      1000\n",
      "weighted avg       0.98      0.98      0.98      1000\n",
      "\n",
      "Confusion matrix:\n",
      "[[790  10]\n",
      " [ 12 188]]\n"
     ]
    }
   ],
   "source": [
    "h = 1 / (1 + np.exp(-1 * np.dot(test0.x, train0.theta)))\n",
    "h[h >= 0.5] = 1\n",
    "h[h < 0.5] = 0\n",
    "print(classification_report(test0.y, h))\n",
    "\n",
    "print('Confusion matrix:')\n",
    "print(confusion_matrix(test0.y, h))"
   ]
  },
  {
   "cell_type": "code",
   "execution_count": 13,
   "metadata": {
    "ExecuteTime": {
     "end_time": "2020-10-05T23:21:28.233856Z",
     "start_time": "2020-10-05T23:21:28.222888Z"
    }
   },
   "outputs": [],
   "source": [
    "#saving theta for use in the overall classification report\n",
    "pd.DataFrame(train0.theta).to_csv('zero.csv', index = False)"
   ]
  },
  {
   "cell_type": "markdown",
   "metadata": {},
   "source": [
    "##### One"
   ]
  },
  {
   "cell_type": "code",
   "execution_count": 14,
   "metadata": {
    "ExecuteTime": {
     "end_time": "2020-10-05T23:21:29.538663Z",
     "start_time": "2020-10-05T23:21:28.237848Z"
    },
    "scrolled": true
   },
   "outputs": [],
   "source": [
    "train1 = LogisticRegression('train.csv', alpha = 0.01)\n",
    "train1.regularize(Lambda = 1)\n",
    "test1 = LogisticRegression('test.csv', alpha = 0.01)\n",
    "test1.regularize(Lambda = 1)\n",
    "\n",
    "test1.classify(N = 1)\n",
    "train1.classify(N = 1)"
   ]
  },
  {
   "cell_type": "code",
   "execution_count": 15,
   "metadata": {
    "ExecuteTime": {
     "end_time": "2020-10-05T23:23:05.138833Z",
     "start_time": "2020-10-05T23:21:29.540362Z"
    },
    "scrolled": true
   },
   "outputs": [
    {
     "data": {
      "image/png": "[encoded data removed]",
      "text/plain": [
       "<Figure size 432x288 with 1 Axes>"
      ]
     },
     "metadata": {
      "needs_background": "light"
     },
     "output_type": "display_data"
    }
   ],
   "source": [
    "train1.regression()\n",
    "train1.graph()"
   ]
  },
  {
   "cell_type": "code",
   "execution_count": 16,
   "metadata": {
    "ExecuteTime": {
     "end_time": "2020-10-05T23:23:05.157773Z",
     "start_time": "2020-10-05T23:23:05.140819Z"
    },
    "scrolled": true
   },
   "outputs": [
    {
     "name": "stdout",
     "output_type": "stream",
     "text": [
      "              precision    recall  f1-score   support\n",
      "\n",
      "         0.0       0.99      0.98      0.98       800\n",
      "         1.0       0.93      0.95      0.94       200\n",
      "\n",
      "    accuracy                           0.98      1000\n",
      "   macro avg       0.96      0.97      0.96      1000\n",
      "weighted avg       0.98      0.98      0.98      1000\n",
      "\n",
      "Confusion matrix:\n",
      "[[786  14]\n",
      " [ 10 190]]\n"
     ]
    }
   ],
   "source": [
    "h = 1 / (1 + np.exp(-1 * np.dot(test1.x, train1.theta)))\n",
    "h[h >= 0.5] = 1\n",
    "h[h < 0.5] = 0\n",
    "print(classification_report(test1.y, h))\n",
    "\n",
    "print('Confusion matrix:')\n",
    "print(confusion_matrix(test1.y, h))"
   ]
  },
  {
   "cell_type": "code",
   "execution_count": 17,
   "metadata": {
    "ExecuteTime": {
     "end_time": "2020-10-05T23:23:05.172732Z",
     "start_time": "2020-10-05T23:23:05.160767Z"
    }
   },
   "outputs": [],
   "source": [
    "pd.DataFrame(train1.theta).to_csv('one.csv', index = False)"
   ]
  },
  {
   "cell_type": "markdown",
   "metadata": {},
   "source": [
    "##### Two"
   ]
  },
  {
   "cell_type": "code",
   "execution_count": 18,
   "metadata": {
    "ExecuteTime": {
     "end_time": "2020-10-05T23:23:06.565032Z",
     "start_time": "2020-10-05T23:23:05.174727Z"
    }
   },
   "outputs": [],
   "source": [
    "train2 = LogisticRegression('train.csv', alpha = 0.01)\n",
    "train2.regularize(Lambda = 1)\n",
    "test2 = LogisticRegression('test.csv', alpha = 0.01)\n",
    "test2.regularize(Lambda = 1)\n",
    "\n",
    "test2.classify(N = 2)\n",
    "train2.classify(N = 2)"
   ]
  },
  {
   "cell_type": "code",
   "execution_count": 19,
   "metadata": {
    "ExecuteTime": {
     "end_time": "2020-10-05T23:24:37.583305Z",
     "start_time": "2020-10-05T23:23:06.566029Z"
    }
   },
   "outputs": [
    {
     "data": {
      "image/png": "[encoded data removed]",
      "text/plain": [
       "<Figure size 432x288 with 1 Axes>"
      ]
     },
     "metadata": {
      "needs_background": "light"
     },
     "output_type": "display_data"
    }
   ],
   "source": [
    "train2.regression()\n",
    "train2.graph()"
   ]
  },
  {
   "cell_type": "code",
   "execution_count": 20,
   "metadata": {
    "ExecuteTime": {
     "end_time": "2020-10-05T23:24:37.603252Z",
     "start_time": "2020-10-05T23:24:37.585300Z"
    }
   },
   "outputs": [
    {
     "name": "stdout",
     "output_type": "stream",
     "text": [
      "              precision    recall  f1-score   support\n",
      "\n",
      "         0.0       0.97      0.97      0.97       800\n",
      "         1.0       0.90      0.86      0.88       200\n",
      "\n",
      "    accuracy                           0.95      1000\n",
      "   macro avg       0.93      0.92      0.92      1000\n",
      "weighted avg       0.95      0.95      0.95      1000\n",
      "\n",
      "Confusion matrix:\n",
      "[[780  20]\n",
      " [ 28 172]]\n"
     ]
    }
   ],
   "source": [
    "h = 1 / (1 + np.exp(-1 * np.dot(test2.x, train2.theta)))\n",
    "h[h >= 0.5] = 1\n",
    "h[h < 0.5] = 0\n",
    "print(classification_report(test2.y, h))\n",
    "\n",
    "print('Confusion matrix:')\n",
    "print(confusion_matrix(test2.y, h))"
   ]
  },
  {
   "cell_type": "code",
   "execution_count": 21,
   "metadata": {
    "ExecuteTime": {
     "end_time": "2020-10-05T23:24:37.618211Z",
     "start_time": "2020-10-05T23:24:37.606244Z"
    }
   },
   "outputs": [],
   "source": [
    "pd.DataFrame(train2.theta).to_csv('two.csv', index = False)"
   ]
  },
  {
   "cell_type": "markdown",
   "metadata": {},
   "source": [
    "##### Seven"
   ]
  },
  {
   "cell_type": "code",
   "execution_count": 22,
   "metadata": {
    "ExecuteTime": {
     "end_time": "2020-10-05T23:24:38.902809Z",
     "start_time": "2020-10-05T23:24:37.620206Z"
    }
   },
   "outputs": [],
   "source": [
    "train7 = LogisticRegression('train.csv', alpha = 0.01)\n",
    "train7.regularize(Lambda = 1)\n",
    "test7 = LogisticRegression('test.csv', alpha = 0.01)\n",
    "test7.regularize(Lambda = 1)\n",
    "\n",
    "test7.classify(N = 7)\n",
    "train7.classify(N = 7)"
   ]
  },
  {
   "cell_type": "code",
   "execution_count": 23,
   "metadata": {
    "ExecuteTime": {
     "end_time": "2020-10-05T23:26:06.282299Z",
     "start_time": "2020-10-05T23:24:38.904769Z"
    }
   },
   "outputs": [
    {
     "data": {
      "image/png": "[encoded data removed]",
      "text/plain": [
       "<Figure size 432x288 with 1 Axes>"
      ]
     },
     "metadata": {
      "needs_background": "light"
     },
     "output_type": "display_data"
    }
   ],
   "source": [
    "train7.regression()\n",
    "train7.graph()"
   ]
  },
  {
   "cell_type": "code",
   "execution_count": 24,
   "metadata": {
    "ExecuteTime": {
     "end_time": "2020-10-05T23:26:06.303243Z",
     "start_time": "2020-10-05T23:26:06.284294Z"
    }
   },
   "outputs": [
    {
     "name": "stdout",
     "output_type": "stream",
     "text": [
      "              precision    recall  f1-score   support\n",
      "\n",
      "         0.0       0.98      0.99      0.99       800\n",
      "         1.0       0.97      0.92      0.94       200\n",
      "\n",
      "    accuracy                           0.98      1000\n",
      "   macro avg       0.98      0.95      0.96      1000\n",
      "weighted avg       0.98      0.98      0.98      1000\n",
      "\n",
      "Confusion matrix:\n",
      "[[795   5]\n",
      " [ 17 183]]\n"
     ]
    }
   ],
   "source": [
    "h = 1 / (1 + np.exp(-1 * np.dot(test7.x, train7.theta)))\n",
    "h[h >= 0.5] = 1\n",
    "h[h < 0.5] = 0\n",
    "print(classification_report(test7.y, h))\n",
    "\n",
    "print('Confusion matrix:')\n",
    "print(confusion_matrix(test7.y, h))"
   ]
  },
  {
   "cell_type": "code",
   "execution_count": 25,
   "metadata": {
    "ExecuteTime": {
     "end_time": "2020-10-05T23:26:06.317205Z",
     "start_time": "2020-10-05T23:26:06.306236Z"
    }
   },
   "outputs": [],
   "source": [
    "pd.DataFrame(train7.theta).to_csv('seven.csv', index = False)"
   ]
  },
  {
   "cell_type": "markdown",
   "metadata": {},
   "source": [
    "##### Eight"
   ]
  },
  {
   "cell_type": "code",
   "execution_count": 26,
   "metadata": {
    "ExecuteTime": {
     "end_time": "2020-10-05T23:26:07.529264Z",
     "start_time": "2020-10-05T23:26:06.319201Z"
    },
    "scrolled": true
   },
   "outputs": [],
   "source": [
    "train8 = LogisticRegression('train.csv', alpha = 0.01)\n",
    "train8.regularize(Lambda = 1)\n",
    "test8 = LogisticRegression('test.csv', alpha = 0.01)\n",
    "test8.regularize(Lambda = 1)\n",
    "\n",
    "test8.classify(N = 8)\n",
    "train8.classify(N = 8)"
   ]
  },
  {
   "cell_type": "code",
   "execution_count": 27,
   "metadata": {
    "ExecuteTime": {
     "end_time": "2020-10-05T23:27:34.522267Z",
     "start_time": "2020-10-05T23:26:07.530959Z"
    },
    "scrolled": true
   },
   "outputs": [
    {
     "data": {
      "image/png": "[encoded data removed]",
      "text/plain": [
       "<Figure size 432x288 with 1 Axes>"
      ]
     },
     "metadata": {
      "needs_background": "light"
     },
     "output_type": "display_data"
    }
   ],
   "source": [
    "train8.regression()\n",
    "train8.graph()"
   ]
  },
  {
   "cell_type": "code",
   "execution_count": 28,
   "metadata": {
    "ExecuteTime": {
     "end_time": "2020-10-05T23:27:34.540218Z",
     "start_time": "2020-10-05T23:27:34.524261Z"
    },
    "scrolled": false
   },
   "outputs": [
    {
     "name": "stdout",
     "output_type": "stream",
     "text": [
      "              precision    recall  f1-score   support\n",
      "\n",
      "         0.0       0.97      0.96      0.97       800\n",
      "         1.0       0.86      0.87      0.86       200\n",
      "\n",
      "    accuracy                           0.94      1000\n",
      "   macro avg       0.91      0.92      0.91      1000\n",
      "weighted avg       0.95      0.94      0.95      1000\n",
      "\n",
      "Confusion matrix:\n",
      "[[771  29]\n",
      " [ 26 174]]\n"
     ]
    }
   ],
   "source": [
    "h = 1 / (1 + np.exp(-1 * np.dot(test8.x, train8.theta)))\n",
    "h[h >= 0.5] = 1\n",
    "h[h < 0.5] = 0\n",
    "print(classification_report(test8.y, h))\n",
    "\n",
    "print('Confusion matrix:')\n",
    "print(confusion_matrix(test8.y, h))"
   ]
  },
  {
   "cell_type": "code",
   "execution_count": 29,
   "metadata": {
    "ExecuteTime": {
     "end_time": "2020-10-05T23:27:34.554182Z",
     "start_time": "2020-10-05T23:27:34.544208Z"
    }
   },
   "outputs": [],
   "source": [
    "pd.DataFrame(train8.theta).to_csv('eight.csv', index = False)"
   ]
  },
  {
   "cell_type": "markdown",
   "metadata": {},
   "source": [
    "#### 3. For the best ensemble, compute the overall accuracy, precision, recall, and F1 score for all classes."
   ]
  },
  {
   "cell_type": "code",
   "execution_count": 30,
   "metadata": {
    "ExecuteTime": {
     "end_time": "2020-10-05T23:27:34.788567Z",
     "start_time": "2020-10-05T23:27:34.556176Z"
    }
   },
   "outputs": [],
   "source": [
    "test = LogisticRegression('test.csv')\n",
    "\n",
    "#read data saved\n",
    "c0 = np.asmatrix(pd.read_csv('zero.csv'))\n",
    "c1 = np.asmatrix(pd.read_csv('one.csv'))\n",
    "c2 = np.asmatrix(pd.read_csv('two.csv'))\n",
    "c7 = np.asmatrix(pd.read_csv('seven.csv'))\n",
    "c8 = np.asmatrix(pd.read_csv('eight.csv'))\n",
    "\n",
    "#compute h using theta from data\n",
    "h0 = 1/(1+ np.exp(np.matmul(test.x,c0)*-1))\n",
    "h1 = 1/(1+ np.exp(np.matmul(test.x,c1)*-1))\n",
    "h2 = 1/(1+ np.exp(np.matmul(test.x,c2)*-1))\n",
    "h7 = 1/(1+ np.exp(np.matmul(test.x,c7)*-1))\n",
    "h8 = 1/(1+ np.exp(np.matmul(test.x,c8)*-1))\n",
    "combined = np.hstack((h0, h1, h2, h7, h8))"
   ]
  },
  {
   "cell_type": "code",
   "execution_count": 31,
   "metadata": {
    "ExecuteTime": {
     "end_time": "2020-10-05T23:27:34.815483Z",
     "start_time": "2020-10-05T23:27:34.790550Z"
    }
   },
   "outputs": [
    {
     "name": "stdout",
     "output_type": "stream",
     "text": [
      "              precision    recall  f1-score   support\n",
      "\n",
      "         0.0       0.96      0.96      0.96       200\n",
      "         1.0       0.93      0.95      0.94       200\n",
      "         2.0       0.93      0.90      0.91       200\n",
      "         7.0       0.96      0.94      0.95       200\n",
      "         8.0       0.90      0.93      0.91       200\n",
      "\n",
      "    accuracy                           0.94      1000\n",
      "   macro avg       0.94      0.93      0.93      1000\n",
      "weighted avg       0.94      0.94      0.93      1000\n",
      "\n",
      "[[192   0   2   1   5]\n",
      " [  0 191   5   0   4]\n",
      " [  4   5 179   5   7]\n",
      " [  1   2   4 188   5]\n",
      " [  4   7   2   2 185]]\n"
     ]
    }
   ],
   "source": [
    "#classify\n",
    "hcombined = (np.zeros(combined.shape[0]))\n",
    "for i in range(combined.shape[0]):\n",
    "    if combined[i, 0] > combined[i,1] and combined[i, 0] > combined[i, 2] and combined[i, 0] > combined[i, 3] and combined[i, 0] > combined[i, 4]:\n",
    "        hcombined[i] = 0\n",
    "    elif combined[i, 1] > combined[i, 2] and combined[i, 1] > combined[i, 3] and combined[i, 1] > combined[i, 4]:\n",
    "        hcombined[i] = 1\n",
    "    elif combined[i, 2] > combined[i, 3] and combined[i, 2] > combined[i, 4]:\n",
    "        hcombined[i] = 2\n",
    "    elif combined[i, 3] > combined[i, 4]:\n",
    "        hcombined[i] = 7\n",
    "    else:\n",
    "        hcombined[i] = 8\n",
    "\n",
    "print(classification_report(test.y, hcombined))\n",
    "print(confusion_matrix(test.y,hcombined))"
   ]
  }
 ],
 "metadata": {
  "anaconda-cloud": {},
  "kernelspec": {
   "display_name": "Python 3",
   "language": "python",
   "name": "python3"
  },
  "language_info": {
   "codemirror_mode": {
    "name": "ipython",
    "version": 3
   },
   "file_extension": ".py",
   "mimetype": "text/x-python",
   "name": "python",
   "nbconvert_exporter": "python",
   "pygments_lexer": "ipython3",
   "version": "3.7.7"
  }
 },
 "nbformat": 4,
 "nbformat_minor": 1
}
